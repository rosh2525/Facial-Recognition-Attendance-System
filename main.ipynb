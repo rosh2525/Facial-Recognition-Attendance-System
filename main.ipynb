{
 "cells": [
  {
   "cell_type": "markdown",
   "source": [
    "# **Facial Attendance System**\n",
    "\n",
    "# Libraries"
   ],
   "metadata": {
    "collapsed": false
   },
   "id": "acd2ac32dd961d9f"
  },
  {
   "cell_type": "code",
   "execution_count": 26,
   "outputs": [],
   "source": [
    "import cv2\n",
    "import pandas as pd\n",
    "import os"
   ],
   "metadata": {
    "collapsed": false,
    "ExecuteTime": {
     "end_time": "2024-06-09T00:48:14.935932400Z",
     "start_time": "2024-06-09T00:48:14.927282Z"
    }
   },
   "id": "690187ec8aa1c865"
  },
  {
   "cell_type": "markdown",
   "source": [
    "# Directory"
   ],
   "metadata": {
    "collapsed": false
   },
   "id": "e464e77e23d4bfd"
  },
  {
   "cell_type": "code",
   "execution_count": 27,
   "outputs": [],
   "source": [
    "# Directory to save student images (if necessary)\n",
    "image_dir = \"student_images\"\n",
    "os.makedirs(image_dir, exist_ok=True)\n",
    "\n",
    "# CSV file to store student details\n",
    "csv_file = \"students.csv\""
   ],
   "metadata": {
    "collapsed": false,
    "ExecuteTime": {
     "end_time": "2024-06-09T00:48:14.949954700Z",
     "start_time": "2024-06-09T00:48:14.929285800Z"
    }
   },
   "id": "21b8e7040b0a28f0"
  },
  {
   "cell_type": "markdown",
   "source": [
    "# Checking No. Of Absentees Of Students\n",
    "\n",
    "By reading students.csv file and getting no. of students and then comparing with the picture of classroom"
   ],
   "metadata": {
    "collapsed": false
   },
   "id": "cd69915858657c40"
  },
  {
   "cell_type": "code",
   "execution_count": 28,
   "outputs": [
    {
     "name": "stdout",
     "output_type": "stream",
     "text": [
      "Classroom image saved at student_images\\classroom.jpg\n",
      "Number of faces detected in classroom: 1\n",
      "Number of registered students: 2\n",
      "Number of absentees: 1\n"
     ]
    }
   ],
   "source": [
    "# Function to read the registered students from the CSV file\n",
    "def get_registered_students():\n",
    "    if not os.path.exists(csv_file):\n",
    "        print(\"No registered students found.\")\n",
    "        return None\n",
    "    df = pd.read_csv(csv_file)\n",
    "    return df\n",
    "\n",
    "\n",
    "# Function to detect faces in the classroom image using Haar cascades\n",
    "def detect_faces_in_classroom(image_path):\n",
    "    face_cascade = cv2.CascadeClassifier(cv2.data.haarcascades + 'haarcascade_frontalface_default.xml')\n",
    "    image = cv2.imread(image_path)\n",
    "    gray_image = cv2.cvtColor(image, cv2.COLOR_BGR2GRAY)\n",
    "    faces = face_cascade.detectMultiScale(gray_image, scaleFactor=1.1, minNeighbors=5, minSize=(30, 30))\n",
    "    return list(faces)\n",
    "\n",
    "\n",
    "\n",
    "# Function to capture the classroom image\n",
    "def capture_classroom_image():\n",
    "    cap = cv2.VideoCapture(0)\n",
    "    image_path = os.path.join(image_dir, \"classroom.jpg\")\n",
    "    \n",
    "    if not cap.isOpened():\n",
    "        print(\"Error: Could not open webcam.\")\n",
    "        return None\n",
    "\n",
    "    while True:\n",
    "        ret, frame = cap.read()\n",
    "        if not ret:\n",
    "            print(\"Failed to capture image\")\n",
    "            break\n",
    "\n",
    "        cv2.imshow(\"Capture Classroom Image - Press 'c' to capture\", frame)\n",
    "\n",
    "        key = cv2.waitKey(1)\n",
    "        if key == ord('c'):  # Capture image when 'c' key is pressed\n",
    "            cv2.imwrite(image_path, frame)\n",
    "            print(f\"Classroom image saved at {image_path}\")\n",
    "            break\n",
    "        elif key == 27:  # Close window when 'Esc' key is pressed\n",
    "            print(\"Capture cancelled.\")\n",
    "            break\n",
    "\n",
    "    cap.release()\n",
    "    cv2.destroyAllWindows()\n",
    "    return image_path\n",
    "\n",
    "def check_attendance():\n",
    "    # Read the registered students from the CSV file\n",
    "    df = get_registered_students()\n",
    "    if df is None:\n",
    "        return\n",
    "    \n",
    "    # Prompt user to capture a new classroom image or provide an existing image path\n",
    "    choice = input(\"Would you like to (1) Capture a new classroom image or (2) Provide an existing classroom image path? Enter 1 or 2: \")\n",
    "\n",
    "    if choice == '1':\n",
    "        classroom_image_path = capture_classroom_image()\n",
    "        if classroom_image_path is None:\n",
    "            print(\"Classroom image capture failed. Attendance check aborted.\")\n",
    "            return\n",
    "    elif choice == '2':\n",
    "        classroom_image_path = input(\"Enter the full path of the existing classroom image: \")\n",
    "        if not os.path.isfile(classroom_image_path):\n",
    "            print(\"Invalid image path. Please try again.\")\n",
    "            return\n",
    "    else:\n",
    "        print(\"Invalid choice. Please try again.\")\n",
    "        return\n",
    "\n",
    "    # Detect faces in the classroom image\n",
    "    detected_faces_count = len(detect_faces_in_classroom(classroom_image_path))\n",
    "    print(f\"Number of faces detected in classroom: {detected_faces_count}\")\n",
    "\n",
    "    # Get the number of registered students\n",
    "    registered_students_count = len(df)\n",
    "    print(f\"Number of registered students: {registered_students_count}\")\n",
    "\n",
    "    # Calculate the number of absentees\n",
    "    absentees_count = registered_students_count - detected_faces_count\n",
    "    absentees_count = max(0, absentees_count)  # Ensure the count is not negative\n",
    "\n",
    "    print(f\"Number of absentees: {absentees_count}\")\n",
    "\n",
    "check_attendance()\n"
   ],
   "metadata": {
    "collapsed": true,
    "ExecuteTime": {
     "end_time": "2024-06-09T00:48:21.386773700Z",
     "start_time": "2024-06-09T00:48:14.937932200Z"
    }
   },
   "id": "initial_id"
  },
  {
   "cell_type": "markdown",
   "source": [],
   "metadata": {
    "collapsed": false
   },
   "id": "1ebf069ecd976c5c"
  },
  {
   "cell_type": "markdown",
   "source": [
    "# Mark Attendance in CSV"
   ],
   "metadata": {
    "collapsed": false
   },
   "id": "de6f064de96e7a57"
  },
  {
   "cell_type": "code",
   "execution_count": 30,
   "outputs": [
    {
     "name": "stdout",
     "output_type": "stream",
     "text": [
      "Classroom image saved at student_images\\classroom.jpg\n",
      "Attendance marked successfully.\n"
     ]
    }
   ],
   "source": [
    "def mark_attendance():\n",
    "    df = get_registered_students()\n",
    "    if df is None:\n",
    "        return\n",
    "    \n",
    "    choice = input(\"Would you like to (1) Capture a new classroom image or (2) Provide an existing classroom image path? Enter 1 or 2: \")\n",
    "\n",
    "    if choice == '1':\n",
    "        classroom_image_path = capture_classroom_image()\n",
    "        if classroom_image_path is None:\n",
    "            print(\"Classroom image capture failed. Attendance marking aborted.\")\n",
    "            return\n",
    "    elif choice == '2':\n",
    "        classroom_image_path = input(\"Enter the full path of the existing classroom image: \")\n",
    "        if not os.path.isfile(classroom_image_path):\n",
    "            print(\"Invalid image path. Please try again.\")\n",
    "            return\n",
    "    else:\n",
    "        print(\"Invalid choice. Please try again.\")\n",
    "        return\n",
    "\n",
    "    faces = detect_faces_in_classroom(classroom_image_path)\n",
    "\n",
    "    # Add a new column for attendance\n",
    "    attendance_col = f\"Day_{df.shape[1] - 2}\"  # Subtract 2 for Roll Number and Name columns\n",
    "    df[attendance_col] = \"Absent\"\n",
    "    \n",
    "    for face in faces:\n",
    "        # Compute centroid of the face rectangle\n",
    "        x, y, w, h = face\n",
    "        cx = x + w // 2\n",
    "        cy = y + h // 2\n",
    "\n",
    "        # Check if the centroid is within any registered student's face rectangle\n",
    "        for index, row in df.iterrows():\n",
    "            roll_number = row['Roll Number']\n",
    "            name = row['Name']\n",
    "            image_path = row['Image Path']\n",
    "\n",
    "            registered_faces = detect_faces_in_classroom(image_path)\n",
    "            for rx, ry, rw, rh in registered_faces:\n",
    "                rcx = rx + rw // 2\n",
    "                rcy = ry + rh // 2\n",
    "                if abs(rcx - cx) < rw // 2 and abs(rcy - cy) < rh // 2:\n",
    "                    df.at[index, attendance_col] = \"Present\"\n",
    "                    break  # Break inner loop as student is found\n",
    "            else:\n",
    "                continue  # Continue to the next registered student if the current face is not matched\n",
    "    \n",
    "    # Save the updated attendance\n",
    "    df.to_csv(csv_file, index=False)\n",
    "    print(\"Attendance marked successfully.\")\n",
    "\n",
    "mark_attendance()\n"
   ],
   "metadata": {
    "collapsed": false,
    "ExecuteTime": {
     "end_time": "2024-06-09T00:48:30.562488800Z",
     "start_time": "2024-06-09T00:48:25.738624200Z"
    }
   },
   "id": "810354d01eb05895"
  },
  {
   "cell_type": "code",
   "execution_count": 29,
   "outputs": [],
   "source": [],
   "metadata": {
    "collapsed": false,
    "ExecuteTime": {
     "end_time": "2024-06-09T00:48:23.083469Z",
     "start_time": "2024-06-09T00:48:23.066953800Z"
    }
   },
   "id": "f800474baf3b1d2d"
  }
 ],
 "metadata": {
  "kernelspec": {
   "display_name": "Python 3",
   "language": "python",
   "name": "python3"
  },
  "language_info": {
   "codemirror_mode": {
    "name": "ipython",
    "version": 2
   },
   "file_extension": ".py",
   "mimetype": "text/x-python",
   "name": "python",
   "nbconvert_exporter": "python",
   "pygments_lexer": "ipython2",
   "version": "2.7.6"
  }
 },
 "nbformat": 4,
 "nbformat_minor": 5
}
